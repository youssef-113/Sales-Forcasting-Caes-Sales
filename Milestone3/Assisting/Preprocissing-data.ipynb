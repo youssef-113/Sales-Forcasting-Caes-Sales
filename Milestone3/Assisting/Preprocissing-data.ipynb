{
 "cells": [
  {
   "cell_type": "markdown",
   "id": "6102ec23",
   "metadata": {},
   "source": [
    "<div style=\"text-align: center; background-color:rgb(32, 5, 129); padding: 10px; border-radius: 10px;\">\n",
    "    <span style=\"color: white; font-size: 40px; font-weight: bold;\">Preprocissing Data To build Model</span>\n",
    "</div>"
   ]
  },
  {
   "cell_type": "code",
   "execution_count": 1,
   "id": "24bd860b",
   "metadata": {},
   "outputs": [],
   "source": [
    "import pandas as pd\n",
    "import numpy as np\n",
    "import scipy as sc\n",
    "import seaborn as sns\n",
    "import matplotlib.pyplot as plt\n",
    "from sklearn.model_selection import train_test_split\n",
    "import joblib\n",
    "from sklearn.tree import DecisionTreeRegressor\n",
    "from sklearn.metrics import mean_squared_error\n",
    "from sklearn.ensemble import RandomForestRegressor\n",
    "from sklearn.ensemble import GradientBoostingRegressor\n",
    "from sklearn.metrics import r2_score\n",
    "from sklearn.model_selection import GridSearchCV\n",
    "import time\n",
    "import pandas as pd\n",
    "from datetime import datetime\n",
    "import holidays\n",
    "from dateutil.relativedelta import relativedelta, FR\n",
    "from sklearn.preprocessing import LabelEncoder\n",
    "from sklearn.feature_selection import SelectKBest, f_regression\n",
    "from sklearn.feature_selection import RFE\n",
    "from xgboost import XGBRegressor\n",
    "from sklearn.preprocessing import StandardScaler\n"
   ]
  },
  {
   "cell_type": "code",
   "execution_count": 2,
   "id": "c6562327",
   "metadata": {},
   "outputs": [
    {
     "name": "stdout",
     "output_type": "stream",
     "text": [
      "<class 'pandas.core.frame.DataFrame'>\n",
      "RangeIndex: 23090 entries, 0 to 23089\n",
      "Data columns (total 19 columns):\n",
      " #   Column         Non-Null Count  Dtype \n",
      "---  ------         --------------  ----- \n",
      " 0   Date           23090 non-null  object\n",
      " 1   Customer Name  23090 non-null  object\n",
      " 2   Gender         23090 non-null  object\n",
      " 3   Annual Income  23090 non-null  int64 \n",
      " 4   Dealer_Name    23090 non-null  object\n",
      " 5   Company        23090 non-null  object\n",
      " 6   Model          23090 non-null  object\n",
      " 7   Engine         23090 non-null  object\n",
      " 8   Transmission   23090 non-null  object\n",
      " 9   Color          23090 non-null  object\n",
      " 10  Price ($)      23090 non-null  int64 \n",
      " 11  Dealer_No      23090 non-null  object\n",
      " 12  Body Style     23090 non-null  object\n",
      " 13  Phone          23090 non-null  int64 \n",
      " 14  Dealer_Region  23090 non-null  object\n",
      " 15  Year           23090 non-null  int64 \n",
      " 16  Month          23090 non-null  int64 \n",
      " 17  DayOfWeek      23090 non-null  int64 \n",
      " 18  Season         23090 non-null  object\n",
      "dtypes: int64(6), object(13)\n",
      "memory usage: 3.3+ MB\n"
     ]
    }
   ],
   "source": [
    "carSales =pd.read_csv('../../Milestone1/Data/Car_sales_CleanData.csv')\n",
    "carSales.info()"
   ]
  },
  {
   "cell_type": "code",
   "execution_count": 3,
   "id": "d5a90da1",
   "metadata": {},
   "outputs": [],
   "source": [
    "carSales = carSales.drop(columns=['Customer Name', 'Dealer_Name', 'Dealer_No ', 'Phone'])"
   ]
  },
  {
   "cell_type": "code",
   "execution_count": 4,
   "id": "65c8fca2",
   "metadata": {},
   "outputs": [
    {
     "name": "stdout",
     "output_type": "stream",
     "text": [
      "<class 'pandas.core.frame.DataFrame'>\n",
      "RangeIndex: 23090 entries, 0 to 23089\n",
      "Data columns (total 15 columns):\n",
      " #   Column         Non-Null Count  Dtype \n",
      "---  ------         --------------  ----- \n",
      " 0   Date           23090 non-null  object\n",
      " 1   Gender         23090 non-null  object\n",
      " 2   Annual Income  23090 non-null  int64 \n",
      " 3   Company        23090 non-null  object\n",
      " 4   Model          23090 non-null  object\n",
      " 5   Engine         23090 non-null  object\n",
      " 6   Transmission   23090 non-null  object\n",
      " 7   Color          23090 non-null  object\n",
      " 8   Price ($)      23090 non-null  int64 \n",
      " 9   Body Style     23090 non-null  object\n",
      " 10  Dealer_Region  23090 non-null  object\n",
      " 11  Year           23090 non-null  int64 \n",
      " 12  Month          23090 non-null  int64 \n",
      " 13  DayOfWeek      23090 non-null  int64 \n",
      " 14  Season         23090 non-null  object\n",
      "dtypes: int64(5), object(10)\n",
      "memory usage: 2.6+ MB\n"
     ]
    },
    {
     "data": {
      "text/plain": [
       "(23090, 15)"
      ]
     },
     "execution_count": 4,
     "metadata": {},
     "output_type": "execute_result"
    }
   ],
   "source": [
    "carSales.info()\n",
    "carSales.shape"
   ]
  },
  {
   "cell_type": "markdown",
   "id": "e6151759",
   "metadata": {},
   "source": [
    "# Feature Engineering"
   ]
  },
  {
   "cell_type": "code",
   "execution_count": 5,
   "id": "8f84d24a",
   "metadata": {},
   "outputs": [],
   "source": [
    "# Egyptian holidays in English\n",
    "eg_holidays = holidays.Egypt(language='en')\n",
    "\n",
    "# Function to get Black Friday (last Friday in November)\n",
    "def get_black_friday(year):\n",
    "    last_day = datetime(year, 11, 30)\n",
    "    return last_day + relativedelta(weekday=FR(-1))\n",
    "\n",
    "# Function to return fixed custom holidays\n",
    "def get_custom_holidays(year):\n",
    "    return {\n",
    "        \"Christmas\": datetime(year, 12, 25),\n",
    "        \"Valentine's Day\": datetime(year, 2, 14),\n",
    "        \"Mother's Day\": datetime(year, 3, 21),\n",
    "        \"Black Friday\": get_black_friday(year)\n",
    "    }\n",
    "\n",
    "# Function to return the name of the holiday (either from holidays package or custom)\n",
    "def get_holiday_name(date):\n",
    "    date = pd.to_datetime(date).date()\n",
    "    \n",
    "    # Check official holidays\n",
    "    if date in eg_holidays:\n",
    "        return eg_holidays.get(date)\n",
    "\n",
    "    # Check custom holidays\n",
    "    for name, d in get_custom_holidays(date.year).items():\n",
    "        if d.date() == date:\n",
    "            return name\n",
    "\n",
    "    return None\n"
   ]
  },
  {
   "cell_type": "code",
   "execution_count": 6,
   "id": "97568b34",
   "metadata": {},
   "outputs": [],
   "source": [
    "carSales['Price_to_Income'] = carSales['Price ($)'] / carSales['Annual Income']"
   ]
  },
  {
   "cell_type": "code",
   "execution_count": 7,
   "id": "74dc384e",
   "metadata": {},
   "outputs": [],
   "source": [
    "carSales['Holiday'] = carSales['Date'].apply(get_holiday_name)"
   ]
  },
  {
   "cell_type": "code",
   "execution_count": 8,
   "id": "5110eec5",
   "metadata": {},
   "outputs": [
    {
     "name": "stdout",
     "output_type": "stream",
     "text": [
      "<class 'pandas.core.frame.DataFrame'>\n",
      "RangeIndex: 23090 entries, 0 to 23089\n",
      "Data columns (total 17 columns):\n",
      " #   Column           Non-Null Count  Dtype  \n",
      "---  ------           --------------  -----  \n",
      " 0   Date             23090 non-null  object \n",
      " 1   Gender           23090 non-null  object \n",
      " 2   Annual Income    23090 non-null  int64  \n",
      " 3   Company          23090 non-null  object \n",
      " 4   Model            23090 non-null  object \n",
      " 5   Engine           23090 non-null  object \n",
      " 6   Transmission     23090 non-null  object \n",
      " 7   Color            23090 non-null  object \n",
      " 8   Price ($)        23090 non-null  int64  \n",
      " 9   Body Style       23090 non-null  object \n",
      " 10  Dealer_Region    23090 non-null  object \n",
      " 11  Year             23090 non-null  int64  \n",
      " 12  Month            23090 non-null  int64  \n",
      " 13  DayOfWeek        23090 non-null  int64  \n",
      " 14  Season           23090 non-null  object \n",
      " 15  Price_to_Income  23090 non-null  float64\n",
      " 16  Holiday          1248 non-null   object \n",
      "dtypes: float64(1), int64(5), object(11)\n",
      "memory usage: 3.0+ MB\n"
     ]
    }
   ],
   "source": [
    "carSales.info()"
   ]
  },
  {
   "cell_type": "code",
   "execution_count": 9,
   "id": "4056b6b6",
   "metadata": {},
   "outputs": [
    {
     "data": {
      "text/plain": [
       "Holiday\n",
       "Christmas                                     169\n",
       "(تقدير) عطلة عيد الفطر                        167\n",
       "Black Friday                                  139\n",
       "(تقدير) عيد الأضحى                            113\n",
       "(تقدير) عطلة عيد الأضحى                        67\n",
       "عيد ثورة 23 يوليو                              65\n",
       "عيد العمال                                     63\n",
       "(تقدير) رأس السنة الهجرية                      63\n",
       "Valentine's Day                                59\n",
       "Mother's Day                                   45\n",
       "عيد الفصح القبطي                               40\n",
       "(تقدير) عيد المولد النبوي                      39\n",
       "(تقدير) عيد الفطر                              38\n",
       "شم النسيم; عيد تحرير سيناء                     35\n",
       "عيد ثورة 25 يناير                              30\n",
       "شم النسيم                                      30\n",
       "عيد القوات المسلحة                             23\n",
       "(تقدير) يوم عرفة                               20\n",
       "عيد الميلاد المجيد (تقويم قبطي)                15\n",
       "عيد تحرير سيناء                                14\n",
       "(تقدير) عطلة عيد الأضحى; عيد ثورة 30 يونيو     14\n",
       "Name: count, dtype: int64"
      ]
     },
     "execution_count": 9,
     "metadata": {},
     "output_type": "execute_result"
    }
   ],
   "source": [
    "carSales.Holiday.value_counts()"
   ]
  },
  {
   "cell_type": "code",
   "execution_count": 10,
   "id": "1b5571df",
   "metadata": {},
   "outputs": [],
   "source": [
    "carSales['Is_Holiday'] = carSales['Date'].apply(lambda x: 1 if get_holiday_name(x) else 0)"
   ]
  },
  {
   "cell_type": "code",
   "execution_count": 11,
   "id": "a53f6142",
   "metadata": {},
   "outputs": [
    {
     "name": "stdout",
     "output_type": "stream",
     "text": [
      "<class 'pandas.core.frame.DataFrame'>\n",
      "RangeIndex: 23090 entries, 0 to 23089\n",
      "Data columns (total 18 columns):\n",
      " #   Column           Non-Null Count  Dtype  \n",
      "---  ------           --------------  -----  \n",
      " 0   Date             23090 non-null  object \n",
      " 1   Gender           23090 non-null  object \n",
      " 2   Annual Income    23090 non-null  int64  \n",
      " 3   Company          23090 non-null  object \n",
      " 4   Model            23090 non-null  object \n",
      " 5   Engine           23090 non-null  object \n",
      " 6   Transmission     23090 non-null  object \n",
      " 7   Color            23090 non-null  object \n",
      " 8   Price ($)        23090 non-null  int64  \n",
      " 9   Body Style       23090 non-null  object \n",
      " 10  Dealer_Region    23090 non-null  object \n",
      " 11  Year             23090 non-null  int64  \n",
      " 12  Month            23090 non-null  int64  \n",
      " 13  DayOfWeek        23090 non-null  int64  \n",
      " 14  Season           23090 non-null  object \n",
      " 15  Price_to_Income  23090 non-null  float64\n",
      " 16  Holiday          1248 non-null   object \n",
      " 17  Is_Holiday       23090 non-null  int64  \n",
      "dtypes: float64(1), int64(6), object(11)\n",
      "memory usage: 3.2+ MB\n"
     ]
    }
   ],
   "source": [
    "carSales.info()"
   ]
  },
  {
   "cell_type": "code",
   "execution_count": 12,
   "id": "5f6817d5",
   "metadata": {},
   "outputs": [
    {
     "data": {
      "text/plain": [
       "Date                object\n",
       "Gender              object\n",
       "Annual Income        int64\n",
       "Company             object\n",
       "Model               object\n",
       "Engine              object\n",
       "Transmission        object\n",
       "Color               object\n",
       "Price ($)            int64\n",
       "Body Style          object\n",
       "Dealer_Region       object\n",
       "Year                 int64\n",
       "Month                int64\n",
       "DayOfWeek            int64\n",
       "Season              object\n",
       "Price_to_Income    float64\n",
       "Holiday             object\n",
       "Is_Holiday           int64\n",
       "dtype: object"
      ]
     },
     "execution_count": 12,
     "metadata": {},
     "output_type": "execute_result"
    }
   ],
   "source": [
    "carSales.dtypes"
   ]
  },
  {
   "cell_type": "markdown",
   "id": "7c8e117d",
   "metadata": {},
   "source": [
    "# **duplicates**"
   ]
  },
  {
   "cell_type": "code",
   "execution_count": 13,
   "id": "40f4c5f2",
   "metadata": {},
   "outputs": [],
   "source": [
    "def check_duplicates(df):\n",
    "    if df.duplicated().sum() > 0:\n",
    "        print(f\"Duplicate rows found: {df.duplicated().sum()}\")\n",
    "        return True\n",
    "    return False"
   ]
  },
  {
   "cell_type": "code",
   "execution_count": 14,
   "id": "04c9758b",
   "metadata": {},
   "outputs": [
    {
     "data": {
      "text/plain": [
       "False"
      ]
     },
     "execution_count": 14,
     "metadata": {},
     "output_type": "execute_result"
    }
   ],
   "source": [
    "carSales = carSales.drop_duplicates()\n",
    "check_duplicates(carSales)"
   ]
  },
  {
   "cell_type": "markdown",
   "id": "c0a91942",
   "metadata": {},
   "source": [
    "# **data types**"
   ]
  },
  {
   "cell_type": "code",
   "execution_count": 15,
   "id": "8bd4af96",
   "metadata": {},
   "outputs": [
    {
     "name": "stdout",
     "output_type": "stream",
     "text": [
      "Column 'Date' has data type 'object'\n"
     ]
    },
    {
     "data": {
      "text/plain": [
       "True"
      ]
     },
     "execution_count": 15,
     "metadata": {},
     "output_type": "execute_result"
    }
   ],
   "source": [
    "def check_data_types(df):\n",
    "    for col in df.columns:\n",
    "        if df[col].dtype not in ['int64', 'float64']:\n",
    "            print(f\"Column '{col}' has data type '{df[col].dtype}'\")\n",
    "            return True\n",
    "    return False\n",
    "check_data_types(carSales)"
   ]
  },
  {
   "cell_type": "code",
   "execution_count": 16,
   "id": "0ac0f158",
   "metadata": {},
   "outputs": [],
   "source": [
    "# Convert all boolean columns to 0 and 1\n",
    "bool_columns = carSales.select_dtypes(include=['bool']).columns  # Get all bool columns\n",
    "carSales[bool_columns] = carSales[bool_columns].astype(int)"
   ]
  },
  {
   "cell_type": "code",
   "execution_count": 17,
   "id": "4d3603b0",
   "metadata": {},
   "outputs": [],
   "source": [
    "# Convert 'Date' to datetime\n",
    "carSales['Date'] = pd.to_datetime(carSales['Date'])\n",
    "\n"
   ]
  },
  {
   "cell_type": "code",
   "execution_count": 18,
   "id": "76aca62b",
   "metadata": {},
   "outputs": [],
   "source": [
    "carSales['Year'] = pd.to_datetime(carSales['Date']).dt.year\n",
    "carSales['Month'] = pd.to_datetime(carSales['Date']).dt.month\n",
    "carSales['Day'] = pd.to_datetime(carSales['Date']).dt.day\n",
    "carSales['DayOfWeek'] = pd.to_datetime(carSales['Date']).dt.dayofweek\n",
    "carSales['WeekOfYear'] = carSales['Date'].dt.isocalendar().week\n",
    "carSales['Is_Weekend'] = carSales['DayOfWeek'].apply(lambda x: 1 if x >= 5 else 0)\n"
   ]
  },
  {
   "cell_type": "code",
   "execution_count": 19,
   "id": "a7161aad",
   "metadata": {},
   "outputs": [
    {
     "name": "stdout",
     "output_type": "stream",
     "text": [
      "Column 'Date' has data type 'datetime64[ns]'\n"
     ]
    },
    {
     "data": {
      "text/plain": [
       "True"
      ]
     },
     "execution_count": 19,
     "metadata": {},
     "output_type": "execute_result"
    }
   ],
   "source": [
    "check_data_types(carSales)"
   ]
  },
  {
   "cell_type": "code",
   "execution_count": 20,
   "id": "e2d2806c",
   "metadata": {},
   "outputs": [
    {
     "name": "stdout",
     "output_type": "stream",
     "text": [
      "<class 'pandas.core.frame.DataFrame'>\n",
      "Index: 23089 entries, 0 to 23089\n",
      "Data columns (total 21 columns):\n",
      " #   Column           Non-Null Count  Dtype         \n",
      "---  ------           --------------  -----         \n",
      " 0   Date             23089 non-null  datetime64[ns]\n",
      " 1   Gender           23089 non-null  object        \n",
      " 2   Annual Income    23089 non-null  int64         \n",
      " 3   Company          23089 non-null  object        \n",
      " 4   Model            23089 non-null  object        \n",
      " 5   Engine           23089 non-null  object        \n",
      " 6   Transmission     23089 non-null  object        \n",
      " 7   Color            23089 non-null  object        \n",
      " 8   Price ($)        23089 non-null  int64         \n",
      " 9   Body Style       23089 non-null  object        \n",
      " 10  Dealer_Region    23089 non-null  object        \n",
      " 11  Year             23089 non-null  int32         \n",
      " 12  Month            23089 non-null  int32         \n",
      " 13  DayOfWeek        23089 non-null  int32         \n",
      " 14  Season           23089 non-null  object        \n",
      " 15  Price_to_Income  23089 non-null  float64       \n",
      " 16  Holiday          1248 non-null   object        \n",
      " 17  Is_Holiday       23089 non-null  int64         \n",
      " 18  Day              23089 non-null  int32         \n",
      " 19  WeekOfYear       23089 non-null  UInt32        \n",
      " 20  Is_Weekend       23089 non-null  int64         \n",
      "dtypes: UInt32(1), datetime64[ns](1), float64(1), int32(4), int64(4), object(10)\n",
      "memory usage: 3.5+ MB\n"
     ]
    }
   ],
   "source": [
    "carSales.info()"
   ]
  },
  {
   "cell_type": "markdown",
   "id": "acffa453",
   "metadata": {},
   "source": [
    "# **missing values**"
   ]
  },
  {
   "cell_type": "code",
   "execution_count": 21,
   "id": "bebb504f",
   "metadata": {},
   "outputs": [
    {
     "name": "stdout",
     "output_type": "stream",
     "text": [
      "Missing values in column 'Holiday': 21841\n"
     ]
    },
    {
     "data": {
      "text/plain": [
       "True"
      ]
     },
     "execution_count": 21,
     "metadata": {},
     "output_type": "execute_result"
    }
   ],
   "source": [
    "def check_missing_values(df):\n",
    "    for col in df.columns:\n",
    "        if df[col].isnull().sum() > 0:\n",
    "            print(f\"Missing values in column '{col}': {df[col].isnull().sum()}\")\n",
    "            return True\n",
    "    return False\n",
    "check_missing_values(carSales)"
   ]
  },
  {
   "cell_type": "code",
   "execution_count": 22,
   "id": "447bcf7f",
   "metadata": {},
   "outputs": [
    {
     "name": "stdout",
     "output_type": "stream",
     "text": [
      "Holiday\n",
      "No Holiday                                    21841\n",
      "Christmas                                       169\n",
      "(تقدير) عطلة عيد الفطر                          167\n",
      "Black Friday                                    139\n",
      "(تقدير) عيد الأضحى                              113\n",
      "(تقدير) عطلة عيد الأضحى                          67\n",
      "عيد ثورة 23 يوليو                                65\n",
      "عيد العمال                                       63\n",
      "(تقدير) رأس السنة الهجرية                        63\n",
      "Valentine's Day                                  59\n",
      "Mother's Day                                     45\n",
      "عيد الفصح القبطي                                 40\n",
      "(تقدير) عيد المولد النبوي                        39\n",
      "(تقدير) عيد الفطر                                38\n",
      "شم النسيم; عيد تحرير سيناء                       35\n",
      "عيد ثورة 25 يناير                                30\n",
      "شم النسيم                                        30\n",
      "عيد القوات المسلحة                               23\n",
      "(تقدير) يوم عرفة                                 20\n",
      "عيد الميلاد المجيد (تقويم قبطي)                  15\n",
      "عيد تحرير سيناء                                  14\n",
      "(تقدير) عطلة عيد الأضحى; عيد ثورة 30 يونيو       14\n",
      "Name: count, dtype: int64\n"
     ]
    },
    {
     "name": "stderr",
     "output_type": "stream",
     "text": [
      "C:\\Users\\DELL\\AppData\\Local\\Temp\\ipykernel_16756\\1925827676.py:1: FutureWarning: A value is trying to be set on a copy of a DataFrame or Series through chained assignment using an inplace method.\n",
      "The behavior will change in pandas 3.0. This inplace method will never work because the intermediate object on which we are setting values always behaves as a copy.\n",
      "\n",
      "For example, when doing 'df[col].method(value, inplace=True)', try using 'df.method({col: value}, inplace=True)' or df[col] = df[col].method(value) instead, to perform the operation inplace on the original object.\n",
      "\n",
      "\n",
      "  carSales['Holiday'].fillna('No Holiday', inplace=True)\n"
     ]
    }
   ],
   "source": [
    "carSales['Holiday'].fillna('No Holiday', inplace=True)\n",
    "print(carSales['Holiday'].value_counts())"
   ]
  },
  {
   "cell_type": "code",
   "execution_count": 23,
   "id": "10c2e489",
   "metadata": {},
   "outputs": [
    {
     "data": {
      "text/plain": [
       "False"
      ]
     },
     "execution_count": 23,
     "metadata": {},
     "output_type": "execute_result"
    }
   ],
   "source": [
    "check_missing_values(carSales)"
   ]
  },
  {
   "cell_type": "markdown",
   "id": "e39d2735",
   "metadata": {},
   "source": [
    "# **encoding**"
   ]
  },
  {
   "cell_type": "code",
   "execution_count": 24,
   "id": "022f573f",
   "metadata": {},
   "outputs": [
    {
     "name": "stdout",
     "output_type": "stream",
     "text": [
      "Column: Gender\n",
      "Unique Count: 2\n",
      "Unique Percentage: 0.00866213348347698%\n",
      "\n",
      "\n",
      "Column: Company\n",
      "Unique Count: 30\n",
      "Unique Percentage: 0.1299320022521547%\n",
      "\n",
      "\n",
      "Column: Model\n",
      "Unique Count: 154\n",
      "Unique Percentage: 0.6669842782277274%\n",
      "\n",
      "\n",
      "Column: Engine\n",
      "Unique Count: 2\n",
      "Unique Percentage: 0.00866213348347698%\n",
      "\n",
      "\n",
      "Column: Transmission\n",
      "Unique Count: 2\n",
      "Unique Percentage: 0.00866213348347698%\n",
      "\n",
      "\n",
      "Column: Color\n",
      "Unique Count: 3\n",
      "Unique Percentage: 0.012993200225215471%\n",
      "\n",
      "\n",
      "Column: Body Style\n",
      "Unique Count: 5\n",
      "Unique Percentage: 0.02165533370869245%\n",
      "\n",
      "\n",
      "Column: Dealer_Region\n",
      "Unique Count: 7\n",
      "Unique Percentage: 0.03031746719216943%\n",
      "\n",
      "\n",
      "Column: Season\n",
      "Unique Count: 4\n",
      "Unique Percentage: 0.01732426696695396%\n",
      "\n",
      "\n",
      "Column: Holiday\n",
      "Unique Count: 22\n",
      "Unique Percentage: 0.09528346831824679%\n",
      "\n",
      "\n"
     ]
    }
   ],
   "source": [
    "def show_unique_values(df):\n",
    "    for col in df.select_dtypes(include=['object', 'category']).columns:\n",
    "        print(f\"Column: {col}\")\n",
    "        print(f\"Unique Count: {df[col].nunique()}\")\n",
    "        print(f\"Unique Percentage: {(df[col].nunique() / len(df)) * 100}%\")\n",
    "        print(\"\\n\")\n",
    "show_unique_values(carSales)\n"
   ]
  },
  {
   "cell_type": "code",
   "execution_count": 25,
   "id": "82d6be11",
   "metadata": {},
   "outputs": [],
   "source": [
    "\n",
    "# Initialize LabelEncoder\n",
    "label_encoder = LabelEncoder()\n",
    "# Iterate over all object columns and apply label encoding\n",
    "for column in ['Engine', 'Transmission', 'Gender', 'Color', 'Dealer_Region','Body Style' ,'Company' , 'Holiday' ]:\n",
    "  carSales[column] = label_encoder.fit_transform(carSales[column])"
   ]
  },
  {
   "cell_type": "code",
   "execution_count": 26,
   "id": "c3c55493",
   "metadata": {},
   "outputs": [],
   "source": [
    "mean_map = carSales.groupby('Model')['Price ($)'].mean().to_dict()  \n",
    "carSales['model'] = carSales['Model'].map(mean_map)\n",
    "carSales.drop('Model', axis=1, inplace=True)"
   ]
  },
  {
   "cell_type": "code",
   "execution_count": 27,
   "id": "54e82014",
   "metadata": {},
   "outputs": [
    {
     "name": "stdout",
     "output_type": "stream",
     "text": [
      "Column: Season\n",
      "Unique Count: 4\n",
      "Unique Percentage: 0.01732426696695396%\n",
      "the names of the unique values are: ['Winter' 'Spring' 'Summer' 'Fall']\n",
      "\n",
      "\n"
     ]
    }
   ],
   "source": [
    "def show_unique_values(df):\n",
    "    for col in df.select_dtypes(include=['object', 'category']).columns:\n",
    "        print(f\"Column: {col}\")\n",
    "        print(f\"Unique Count: {df[col].nunique()}\")\n",
    "        print(f\"Unique Percentage: {(df[col].nunique() / len(df)) * 100}%\")\n",
    "        print(f\"the names of the unique values are: {df[col].unique()}\")\n",
    "        print(\"\\n\")\n",
    "show_unique_values(carSales)"
   ]
  },
  {
   "cell_type": "code",
   "execution_count": 28,
   "id": "d9150e25",
   "metadata": {},
   "outputs": [],
   "source": [
    "map_seaonal = {\n",
    "    'Spring': 0,\n",
    "    'Summer': 1,\n",
    "    'Fall': 2,\n",
    "    'Winter': 3\n",
    "}\n",
    "carSales['Season'] = carSales['Season'].map(map_seaonal)\n"
   ]
  },
  {
   "cell_type": "code",
   "execution_count": 29,
   "id": "1b56d0dc",
   "metadata": {},
   "outputs": [
    {
     "name": "stdout",
     "output_type": "stream",
     "text": [
      "<class 'pandas.core.frame.DataFrame'>\n",
      "Index: 23089 entries, 0 to 23089\n",
      "Data columns (total 21 columns):\n",
      " #   Column           Non-Null Count  Dtype         \n",
      "---  ------           --------------  -----         \n",
      " 0   Date             23089 non-null  datetime64[ns]\n",
      " 1   Gender           23089 non-null  int32         \n",
      " 2   Annual Income    23089 non-null  int64         \n",
      " 3   Company          23089 non-null  int32         \n",
      " 4   Engine           23089 non-null  int32         \n",
      " 5   Transmission     23089 non-null  int32         \n",
      " 6   Color            23089 non-null  int32         \n",
      " 7   Price ($)        23089 non-null  int64         \n",
      " 8   Body Style       23089 non-null  int32         \n",
      " 9   Dealer_Region    23089 non-null  int32         \n",
      " 10  Year             23089 non-null  int32         \n",
      " 11  Month            23089 non-null  int32         \n",
      " 12  DayOfWeek        23089 non-null  int32         \n",
      " 13  Season           23089 non-null  int64         \n",
      " 14  Price_to_Income  23089 non-null  float64       \n",
      " 15  Holiday          23089 non-null  int32         \n",
      " 16  Is_Holiday       23089 non-null  int64         \n",
      " 17  Day              23089 non-null  int32         \n",
      " 18  WeekOfYear       23089 non-null  UInt32        \n",
      " 19  Is_Weekend       23089 non-null  int64         \n",
      " 20  model            23089 non-null  float64       \n",
      "dtypes: UInt32(1), datetime64[ns](1), float64(2), int32(12), int64(5)\n",
      "memory usage: 2.8 MB\n"
     ]
    }
   ],
   "source": [
    "carSales.info()"
   ]
  },
  {
   "cell_type": "code",
   "execution_count": 30,
   "id": "3e3091c4",
   "metadata": {},
   "outputs": [
    {
     "data": {
      "text/plain": [
       "<bound method Index.all of Index(['Date', 'Gender', 'Annual Income', 'Company', 'Engine', 'Transmission',\n",
       "       'Color', 'Price ($)', 'Body Style', 'Dealer_Region', 'Year', 'Month',\n",
       "       'DayOfWeek', 'Season', 'Price_to_Income', 'Holiday', 'Is_Holiday',\n",
       "       'Day', 'WeekOfYear', 'Is_Weekend', 'model'],\n",
       "      dtype='object')>"
      ]
     },
     "execution_count": 30,
     "metadata": {},
     "output_type": "execute_result"
    }
   ],
   "source": [
    "carSales.columns.all "
   ]
  },
  {
   "cell_type": "code",
   "execution_count": 31,
   "id": "6ca45fd0",
   "metadata": {},
   "outputs": [
    {
     "data": {
      "application/vnd.microsoft.datawrangler.viewer.v0+json": {
       "columns": [
        {
         "name": "index",
         "rawType": "int64",
         "type": "integer"
        },
        {
         "name": "Date",
         "rawType": "datetime64[ns]",
         "type": "datetime"
        },
        {
         "name": "Gender",
         "rawType": "int32",
         "type": "integer"
        },
        {
         "name": "Annual Income",
         "rawType": "int64",
         "type": "integer"
        },
        {
         "name": "Company",
         "rawType": "int32",
         "type": "integer"
        },
        {
         "name": "Engine",
         "rawType": "int32",
         "type": "integer"
        },
        {
         "name": "Transmission",
         "rawType": "int32",
         "type": "integer"
        },
        {
         "name": "Color",
         "rawType": "int32",
         "type": "integer"
        },
        {
         "name": "Price ($)",
         "rawType": "int64",
         "type": "integer"
        },
        {
         "name": "Body Style",
         "rawType": "int32",
         "type": "integer"
        },
        {
         "name": "Dealer_Region",
         "rawType": "int32",
         "type": "integer"
        },
        {
         "name": "Year",
         "rawType": "int32",
         "type": "integer"
        },
        {
         "name": "Month",
         "rawType": "int32",
         "type": "integer"
        },
        {
         "name": "DayOfWeek",
         "rawType": "int32",
         "type": "integer"
        },
        {
         "name": "Season",
         "rawType": "int64",
         "type": "integer"
        },
        {
         "name": "Price_to_Income",
         "rawType": "float64",
         "type": "float"
        },
        {
         "name": "Holiday",
         "rawType": "int32",
         "type": "integer"
        },
        {
         "name": "Is_Holiday",
         "rawType": "int64",
         "type": "integer"
        },
        {
         "name": "Day",
         "rawType": "int32",
         "type": "integer"
        },
        {
         "name": "WeekOfYear",
         "rawType": "UInt32",
         "type": "integer"
        },
        {
         "name": "Is_Weekend",
         "rawType": "int64",
         "type": "integer"
        },
        {
         "name": "model",
         "rawType": "float64",
         "type": "float"
        }
       ],
       "conversionMethod": "pd.DataFrame",
       "ref": "0d7f39ba-9134-4fc7-a5f9-563ad807c530",
       "rows": [
        [
         "0",
         "2022-01-02 00:00:00",
         "1",
         "13500",
         "8",
         "0",
         "0",
         "0",
         "26000",
         "3",
         "4",
         "2022",
         "1",
         "6",
         "3",
         "1.9259259259259258",
         "11",
         "0",
         "2",
         "52",
         "1",
         "22367.847619047618"
        ],
        [
         "1",
         "2022-01-02 00:00:00",
         "1",
         "1480000",
         "7",
         "0",
         "0",
         "0",
         "19000",
         "3",
         "0",
         "2022",
         "1",
         "6",
         "3",
         "0.012837837837837839",
         "11",
         "0",
         "2",
         "52",
         "1",
         "22465.016"
        ],
        [
         "2",
         "2022-01-02 00:00:00",
         "1",
         "1035000",
         "4",
         "1",
         "1",
         "2",
         "31500",
         "2",
         "2",
         "2022",
         "1",
         "6",
         "3",
         "0.030434782608695653",
         "11",
         "0",
         "2",
         "52",
         "1",
         "42132.740909090906"
        ],
        [
         "3",
         "2022-01-02 00:00:00",
         "1",
         "13500",
         "27",
         "1",
         "1",
         "1",
         "14000",
         "3",
         "5",
         "2022",
         "1",
         "6",
         "3",
         "1.037037037037037",
         "11",
         "0",
         "2",
         "52",
         "1",
         "26243.83435582822"
        ],
        [
         "4",
         "2022-01-02 00:00:00",
         "1",
         "1465000",
         "0",
         "0",
         "0",
         "2",
         "24500",
         "1",
         "3",
         "2022",
         "1",
         "6",
         "3",
         "0.016723549488054608",
         "11",
         "0",
         "2",
         "52",
         "1",
         "22819.45627376426"
        ]
       ],
       "shape": {
        "columns": 21,
        "rows": 5
       }
      },
      "text/html": [
       "<div>\n",
       "<style scoped>\n",
       "    .dataframe tbody tr th:only-of-type {\n",
       "        vertical-align: middle;\n",
       "    }\n",
       "\n",
       "    .dataframe tbody tr th {\n",
       "        vertical-align: top;\n",
       "    }\n",
       "\n",
       "    .dataframe thead th {\n",
       "        text-align: right;\n",
       "    }\n",
       "</style>\n",
       "<table border=\"1\" class=\"dataframe\">\n",
       "  <thead>\n",
       "    <tr style=\"text-align: right;\">\n",
       "      <th></th>\n",
       "      <th>Date</th>\n",
       "      <th>Gender</th>\n",
       "      <th>Annual Income</th>\n",
       "      <th>Company</th>\n",
       "      <th>Engine</th>\n",
       "      <th>Transmission</th>\n",
       "      <th>Color</th>\n",
       "      <th>Price ($)</th>\n",
       "      <th>Body Style</th>\n",
       "      <th>Dealer_Region</th>\n",
       "      <th>...</th>\n",
       "      <th>Month</th>\n",
       "      <th>DayOfWeek</th>\n",
       "      <th>Season</th>\n",
       "      <th>Price_to_Income</th>\n",
       "      <th>Holiday</th>\n",
       "      <th>Is_Holiday</th>\n",
       "      <th>Day</th>\n",
       "      <th>WeekOfYear</th>\n",
       "      <th>Is_Weekend</th>\n",
       "      <th>model</th>\n",
       "    </tr>\n",
       "  </thead>\n",
       "  <tbody>\n",
       "    <tr>\n",
       "      <th>0</th>\n",
       "      <td>2022-01-02</td>\n",
       "      <td>1</td>\n",
       "      <td>13500</td>\n",
       "      <td>8</td>\n",
       "      <td>0</td>\n",
       "      <td>0</td>\n",
       "      <td>0</td>\n",
       "      <td>26000</td>\n",
       "      <td>3</td>\n",
       "      <td>4</td>\n",
       "      <td>...</td>\n",
       "      <td>1</td>\n",
       "      <td>6</td>\n",
       "      <td>3</td>\n",
       "      <td>1.925926</td>\n",
       "      <td>11</td>\n",
       "      <td>0</td>\n",
       "      <td>2</td>\n",
       "      <td>52</td>\n",
       "      <td>1</td>\n",
       "      <td>22367.847619</td>\n",
       "    </tr>\n",
       "    <tr>\n",
       "      <th>1</th>\n",
       "      <td>2022-01-02</td>\n",
       "      <td>1</td>\n",
       "      <td>1480000</td>\n",
       "      <td>7</td>\n",
       "      <td>0</td>\n",
       "      <td>0</td>\n",
       "      <td>0</td>\n",
       "      <td>19000</td>\n",
       "      <td>3</td>\n",
       "      <td>0</td>\n",
       "      <td>...</td>\n",
       "      <td>1</td>\n",
       "      <td>6</td>\n",
       "      <td>3</td>\n",
       "      <td>0.012838</td>\n",
       "      <td>11</td>\n",
       "      <td>0</td>\n",
       "      <td>2</td>\n",
       "      <td>52</td>\n",
       "      <td>1</td>\n",
       "      <td>22465.016000</td>\n",
       "    </tr>\n",
       "    <tr>\n",
       "      <th>2</th>\n",
       "      <td>2022-01-02</td>\n",
       "      <td>1</td>\n",
       "      <td>1035000</td>\n",
       "      <td>4</td>\n",
       "      <td>1</td>\n",
       "      <td>1</td>\n",
       "      <td>2</td>\n",
       "      <td>31500</td>\n",
       "      <td>2</td>\n",
       "      <td>2</td>\n",
       "      <td>...</td>\n",
       "      <td>1</td>\n",
       "      <td>6</td>\n",
       "      <td>3</td>\n",
       "      <td>0.030435</td>\n",
       "      <td>11</td>\n",
       "      <td>0</td>\n",
       "      <td>2</td>\n",
       "      <td>52</td>\n",
       "      <td>1</td>\n",
       "      <td>42132.740909</td>\n",
       "    </tr>\n",
       "    <tr>\n",
       "      <th>3</th>\n",
       "      <td>2022-01-02</td>\n",
       "      <td>1</td>\n",
       "      <td>13500</td>\n",
       "      <td>27</td>\n",
       "      <td>1</td>\n",
       "      <td>1</td>\n",
       "      <td>1</td>\n",
       "      <td>14000</td>\n",
       "      <td>3</td>\n",
       "      <td>5</td>\n",
       "      <td>...</td>\n",
       "      <td>1</td>\n",
       "      <td>6</td>\n",
       "      <td>3</td>\n",
       "      <td>1.037037</td>\n",
       "      <td>11</td>\n",
       "      <td>0</td>\n",
       "      <td>2</td>\n",
       "      <td>52</td>\n",
       "      <td>1</td>\n",
       "      <td>26243.834356</td>\n",
       "    </tr>\n",
       "    <tr>\n",
       "      <th>4</th>\n",
       "      <td>2022-01-02</td>\n",
       "      <td>1</td>\n",
       "      <td>1465000</td>\n",
       "      <td>0</td>\n",
       "      <td>0</td>\n",
       "      <td>0</td>\n",
       "      <td>2</td>\n",
       "      <td>24500</td>\n",
       "      <td>1</td>\n",
       "      <td>3</td>\n",
       "      <td>...</td>\n",
       "      <td>1</td>\n",
       "      <td>6</td>\n",
       "      <td>3</td>\n",
       "      <td>0.016724</td>\n",
       "      <td>11</td>\n",
       "      <td>0</td>\n",
       "      <td>2</td>\n",
       "      <td>52</td>\n",
       "      <td>1</td>\n",
       "      <td>22819.456274</td>\n",
       "    </tr>\n",
       "  </tbody>\n",
       "</table>\n",
       "<p>5 rows × 21 columns</p>\n",
       "</div>"
      ],
      "text/plain": [
       "        Date  Gender  Annual Income  Company  Engine  Transmission  Color  \\\n",
       "0 2022-01-02       1          13500        8       0             0      0   \n",
       "1 2022-01-02       1        1480000        7       0             0      0   \n",
       "2 2022-01-02       1        1035000        4       1             1      2   \n",
       "3 2022-01-02       1          13500       27       1             1      1   \n",
       "4 2022-01-02       1        1465000        0       0             0      2   \n",
       "\n",
       "   Price ($)  Body Style  Dealer_Region  ...  Month  DayOfWeek  Season  \\\n",
       "0      26000           3              4  ...      1          6       3   \n",
       "1      19000           3              0  ...      1          6       3   \n",
       "2      31500           2              2  ...      1          6       3   \n",
       "3      14000           3              5  ...      1          6       3   \n",
       "4      24500           1              3  ...      1          6       3   \n",
       "\n",
       "   Price_to_Income  Holiday  Is_Holiday  Day  WeekOfYear  Is_Weekend  \\\n",
       "0         1.925926       11           0    2          52           1   \n",
       "1         0.012838       11           0    2          52           1   \n",
       "2         0.030435       11           0    2          52           1   \n",
       "3         1.037037       11           0    2          52           1   \n",
       "4         0.016724       11           0    2          52           1   \n",
       "\n",
       "          model  \n",
       "0  22367.847619  \n",
       "1  22465.016000  \n",
       "2  42132.740909  \n",
       "3  26243.834356  \n",
       "4  22819.456274  \n",
       "\n",
       "[5 rows x 21 columns]"
      ]
     },
     "execution_count": 31,
     "metadata": {},
     "output_type": "execute_result"
    }
   ],
   "source": [
    "carSales.head()"
   ]
  },
  {
   "cell_type": "markdown",
   "id": "bdc12967",
   "metadata": {},
   "source": [
    "# **New Features Creation**"
   ]
  },
  {
   "cell_type": "code",
   "execution_count": 32,
   "id": "8c40a744",
   "metadata": {},
   "outputs": [],
   "source": [
    "carSales[\"Engine_to_Model\"] = carSales[\"Engine\"] / (carSales[\"model\"] + 1)\n",
    "\n",
    "# Income Bracket using quartiles\n",
    "carSales[\"Income_Bracket\"] = pd.qcut(carSales[\"Annual Income\"], q=4, labels=[1, 2, 3, 4])\n",
    "\n",
    "# Seasonal Price Index\n",
    "season_price_map = carSales.groupby('Season')[\"Price ($)\"].mean().to_dict()\n",
    "carSales[\"Seasonal_Price_Index\"] = carSales[\"Season\"].map(season_price_map)\n",
    "\n",
    "# Year-Month Feature\n",
    "carSales[\"Year_Month\"] = carSales[\"Year\"] * 100 + carSales[\"Month\"]\n",
    "\n",
    "# Engine × Transmission Combo\n",
    "carSales[\"Engine_Transmission\"] = carSales[\"Engine\"].astype(str) + \"_\" + carSales[\"Transmission\"].astype(str)\n",
    "carSales[\"Engine_Transmission\"] = LabelEncoder().fit_transform(carSales[\"Engine_Transmission\"])\n",
    "\n",
    "# Company Strength\n",
    "company_avg_price = carSales.groupby(\"Company\")[\"Price ($)\"].mean().to_dict()\n",
    "carSales[\"Company_Strength\"] = carSales[\"Company\"].map(company_avg_price)"
   ]
  },
  {
   "cell_type": "code",
   "execution_count": 33,
   "id": "35f7a1de",
   "metadata": {},
   "outputs": [
    {
     "data": {
      "text/plain": [
       "Income_Bracket\n",
       "3    5796\n",
       "1    5775\n",
       "2    5775\n",
       "4    5743\n",
       "Name: count, dtype: int64"
      ]
     },
     "execution_count": 33,
     "metadata": {},
     "output_type": "execute_result"
    }
   ],
   "source": [
    "carSales['Income_Bracket'].unique() \n",
    "carSales['Income_Bracket'].value_counts()"
   ]
  },
  {
   "cell_type": "code",
   "execution_count": 34,
   "id": "87300ea6",
   "metadata": {},
   "outputs": [
    {
     "data": {
      "text/plain": [
       "0    22369.773545\n",
       "1    22465.028838\n",
       "2    42132.771344\n",
       "3    26244.871393\n",
       "4    22819.472997\n",
       "5    22098.387252\n",
       "6    26632.348556\n",
       "7    38749.086721\n",
       "8    37202.718005\n",
       "9    12870.741248\n",
       "Name: PI_plus_model, dtype: float64"
      ]
     },
     "execution_count": 34,
     "metadata": {},
     "output_type": "execute_result"
    }
   ],
   "source": [
    "carSales[\"PI_plus_model\"] = carSales[\"Price_to_Income\"] + carSales[\"model\"]\n",
    "carSales[\"PI_plus_model\"].head(10)\n"
   ]
  },
  {
   "cell_type": "code",
   "execution_count": 35,
   "id": "41301ec2",
   "metadata": {},
   "outputs": [],
   "source": [
    "\n",
    "carSales['Income_Bracket'] = label_encoder.fit_transform(carSales['Income_Bracket'])\n"
   ]
  },
  {
   "cell_type": "code",
   "execution_count": 36,
   "id": "90c9b958",
   "metadata": {},
   "outputs": [],
   "source": [
    "carSales = carSales.astype({col: 'int64' for col in carSales.select_dtypes(include='integer').columns})\n"
   ]
  },
  {
   "cell_type": "code",
   "execution_count": 37,
   "id": "087fca70",
   "metadata": {},
   "outputs": [
    {
     "name": "stdout",
     "output_type": "stream",
     "text": [
      "<class 'pandas.core.frame.DataFrame'>\n",
      "Index: 23089 entries, 0 to 23089\n",
      "Data columns (total 28 columns):\n",
      " #   Column                Non-Null Count  Dtype         \n",
      "---  ------                --------------  -----         \n",
      " 0   Date                  23089 non-null  datetime64[ns]\n",
      " 1   Gender                23089 non-null  int64         \n",
      " 2   Annual Income         23089 non-null  int64         \n",
      " 3   Company               23089 non-null  int64         \n",
      " 4   Engine                23089 non-null  int64         \n",
      " 5   Transmission          23089 non-null  int64         \n",
      " 6   Color                 23089 non-null  int64         \n",
      " 7   Price ($)             23089 non-null  int64         \n",
      " 8   Body Style            23089 non-null  int64         \n",
      " 9   Dealer_Region         23089 non-null  int64         \n",
      " 10  Year                  23089 non-null  int64         \n",
      " 11  Month                 23089 non-null  int64         \n",
      " 12  DayOfWeek             23089 non-null  int64         \n",
      " 13  Season                23089 non-null  int64         \n",
      " 14  Price_to_Income       23089 non-null  float64       \n",
      " 15  Holiday               23089 non-null  int64         \n",
      " 16  Is_Holiday            23089 non-null  int64         \n",
      " 17  Day                   23089 non-null  int64         \n",
      " 18  WeekOfYear            23089 non-null  int64         \n",
      " 19  Is_Weekend            23089 non-null  int64         \n",
      " 20  model                 23089 non-null  float64       \n",
      " 21  Engine_to_Model       23089 non-null  float64       \n",
      " 22  Income_Bracket        23089 non-null  int64         \n",
      " 23  Seasonal_Price_Index  23089 non-null  float64       \n",
      " 24  Year_Month            23089 non-null  int64         \n",
      " 25  Engine_Transmission   23089 non-null  int64         \n",
      " 26  Company_Strength      23089 non-null  float64       \n",
      " 27  PI_plus_model         23089 non-null  float64       \n",
      "dtypes: datetime64[ns](1), float64(6), int64(21)\n",
      "memory usage: 5.1 MB\n"
     ]
    }
   ],
   "source": [
    "carSales.info()"
   ]
  },
  {
   "cell_type": "code",
   "execution_count": 38,
   "id": "a5c5dd5a",
   "metadata": {},
   "outputs": [
    {
     "name": "stdout",
     "output_type": "stream",
     "text": [
      "Column 'Date' has data type 'datetime64[ns]'\n"
     ]
    },
    {
     "data": {
      "text/plain": [
       "True"
      ]
     },
     "execution_count": 38,
     "metadata": {},
     "output_type": "execute_result"
    }
   ],
   "source": [
    "check_data_types(carSales)"
   ]
  },
  {
   "cell_type": "code",
   "execution_count": 39,
   "id": "5badb995",
   "metadata": {},
   "outputs": [
    {
     "data": {
      "text/plain": [
       "Date                    datetime64[ns]\n",
       "Gender                           int64\n",
       "Annual Income                    int64\n",
       "Company                          int64\n",
       "Engine                           int64\n",
       "Transmission                     int64\n",
       "Color                            int64\n",
       "Price ($)                        int64\n",
       "Body Style                       int64\n",
       "Dealer_Region                    int64\n",
       "Year                             int64\n",
       "Month                            int64\n",
       "DayOfWeek                        int64\n",
       "Season                           int64\n",
       "Price_to_Income                float64\n",
       "Holiday                          int64\n",
       "Is_Holiday                       int64\n",
       "Day                              int64\n",
       "WeekOfYear                       int64\n",
       "Is_Weekend                       int64\n",
       "model                          float64\n",
       "Engine_to_Model                float64\n",
       "Income_Bracket                   int64\n",
       "Seasonal_Price_Index           float64\n",
       "Year_Month                       int64\n",
       "Engine_Transmission              int64\n",
       "Company_Strength               float64\n",
       "PI_plus_model                  float64\n",
       "dtype: object"
      ]
     },
     "execution_count": 39,
     "metadata": {},
     "output_type": "execute_result"
    }
   ],
   "source": [
    "carSales.dtypes"
   ]
  },
  {
   "cell_type": "code",
   "execution_count": 40,
   "id": "bac745db",
   "metadata": {},
   "outputs": [],
   "source": [
    "scaler = StandardScaler()\n",
    "carSales = carSales.copy()\n",
    "carSales[['Annual Income', 'Price ($)']] = scaler.fit_transform(carSales[['Annual Income', 'Price ($)']])\n"
   ]
  },
  {
   "cell_type": "code",
   "execution_count": null,
   "id": "fb461587",
   "metadata": {},
   "outputs": [],
   "source": []
  },
  {
   "cell_type": "markdown",
   "id": "3998c572",
   "metadata": {},
   "source": [
    "#"
   ]
  },
  {
   "cell_type": "markdown",
   "id": "44ee5f56",
   "metadata": {},
   "source": [
    "## save "
   ]
  },
  {
   "cell_type": "code",
   "execution_count": 41,
   "id": "00bef0c8",
   "metadata": {},
   "outputs": [
    {
     "data": {
      "text/plain": [
       "['LabelEncoder.pkl']"
      ]
     },
     "execution_count": 41,
     "metadata": {},
     "output_type": "execute_result"
    }
   ],
   "source": [
    "joblib.dump(scaler, 'StanderScaler.pkl')\n",
    "joblib.dump(label_encoder, 'LabelEncoder.pkl')"
   ]
  },
  {
   "cell_type": "code",
   "execution_count": 42,
   "id": "09a90e82",
   "metadata": {},
   "outputs": [
    {
     "name": "stdout",
     "output_type": "stream",
     "text": [
      "<class 'pandas.core.frame.DataFrame'>\n",
      "Index: 23089 entries, 0 to 23089\n",
      "Data columns (total 28 columns):\n",
      " #   Column                Non-Null Count  Dtype         \n",
      "---  ------                --------------  -----         \n",
      " 0   Date                  23089 non-null  datetime64[ns]\n",
      " 1   Gender                23089 non-null  int64         \n",
      " 2   Annual Income         23089 non-null  float64       \n",
      " 3   Company               23089 non-null  int64         \n",
      " 4   Engine                23089 non-null  int64         \n",
      " 5   Transmission          23089 non-null  int64         \n",
      " 6   Color                 23089 non-null  int64         \n",
      " 7   Price ($)             23089 non-null  float64       \n",
      " 8   Body Style            23089 non-null  int64         \n",
      " 9   Dealer_Region         23089 non-null  int64         \n",
      " 10  Year                  23089 non-null  int64         \n",
      " 11  Month                 23089 non-null  int64         \n",
      " 12  DayOfWeek             23089 non-null  int64         \n",
      " 13  Season                23089 non-null  int64         \n",
      " 14  Price_to_Income       23089 non-null  float64       \n",
      " 15  Holiday               23089 non-null  int64         \n",
      " 16  Is_Holiday            23089 non-null  int64         \n",
      " 17  Day                   23089 non-null  int64         \n",
      " 18  WeekOfYear            23089 non-null  int64         \n",
      " 19  Is_Weekend            23089 non-null  int64         \n",
      " 20  model                 23089 non-null  float64       \n",
      " 21  Engine_to_Model       23089 non-null  float64       \n",
      " 22  Income_Bracket        23089 non-null  int64         \n",
      " 23  Seasonal_Price_Index  23089 non-null  float64       \n",
      " 24  Year_Month            23089 non-null  int64         \n",
      " 25  Engine_Transmission   23089 non-null  int64         \n",
      " 26  Company_Strength      23089 non-null  float64       \n",
      " 27  PI_plus_model         23089 non-null  float64       \n",
      "dtypes: datetime64[ns](1), float64(8), int64(19)\n",
      "memory usage: 5.1 MB\n"
     ]
    }
   ],
   "source": [
    "carSales.info()"
   ]
  },
  {
   "cell_type": "code",
   "execution_count": 43,
   "id": "2464a362",
   "metadata": {},
   "outputs": [
    {
     "name": "stdout",
     "output_type": "stream",
     "text": [
      "PI_plus_model           0.493254\n",
      "model                   0.493227\n",
      "Price_to_Income         0.262996\n",
      "Company_Strength        0.243971\n",
      "Engine_to_Model         0.120120\n",
      "Company                 0.022634\n",
      "Body Style              0.014797\n",
      "Holiday                 0.012945\n",
      "Seasonal_Price_Index    0.010600\n",
      "Engine                  0.010436\n",
      "Name: Price ($), dtype: float64\n",
      "Selected by corr-threshold: ['Price ($)', 'PI_plus_model', 'model', 'Price_to_Income', 'Company_Strength']\n"
     ]
    }
   ],
   "source": [
    "corr =carSales.corr()['Price ($)'].abs().sort_values(ascending=False)\n",
    "\n",
    "# show the top 10 (skip the first one, which is Price itself)\n",
    "top_feats = corr.iloc[1:11]\n",
    "print(top_feats)\n",
    "threshold = 0.2\n",
    "top_feats = corr[corr > threshold].index.tolist()\n",
    "print(\"Selected by corr-threshold:\", top_feats)"
   ]
  },
  {
   "cell_type": "code",
   "execution_count": 44,
   "id": "29dff952",
   "metadata": {},
   "outputs": [],
   "source": [
    "X = carSales.drop(columns=['Price ($)', 'Date'])\n",
    "y = carSales['Price ($)']"
   ]
  },
  {
   "cell_type": "code",
   "execution_count": 45,
   "id": "59ab910a",
   "metadata": {},
   "outputs": [
    {
     "name": "stdout",
     "output_type": "stream",
     "text": [
      "SelectKBest picked: ['Price_to_Income', 'model', 'Engine_to_Model', 'Company_Strength', 'PI_plus_model']\n"
     ]
    }
   ],
   "source": [
    "# X, y as your full feature matrix & target\n",
    "selector = SelectKBest(score_func=f_regression, k=5)\n",
    "selector.fit(X, y)\n",
    "selected = X.columns[selector.get_support()]\n",
    "print(\"SelectKBest picked:\", list(selected))\n"
   ]
  },
  {
   "cell_type": "code",
   "execution_count": 46,
   "metadata": {},
   "outputs": [
    {
     "name": "stdout",
     "output_type": "stream",
     "text": [
      "RFE selected: ['Annual Income', 'Price_to_Income', 'model', 'Income_Bracket', 'PI_plus_model']\n"
     ]
    }
   ],
   "source": [
    "est = XGBRegressor(random_state=42)\n",
    "rfe = RFE(estimator=est, n_features_to_select=5)\n",
    "rfe.fit(X, y)\n",
    "print(\"RFE selected:\", list(X.columns[rfe.support_]))"
   ]
  },
  {
   "cell_type": "code",
   "execution_count": 47,
   "id": "0e2cfab0",
   "metadata": {},
   "outputs": [
    {
     "data": {
      "text/plain": [
       "Index(['Date', 'Gender', 'Annual Income', 'Company', 'Engine', 'Transmission',\n",
       "       'Color', 'Price ($)', 'Body Style', 'Dealer_Region', 'Year', 'Month',\n",
       "       'DayOfWeek', 'Season', 'Price_to_Income', 'Holiday', 'Is_Holiday',\n",
       "       'Day', 'WeekOfYear', 'Is_Weekend', 'model', 'Engine_to_Model',\n",
       "       'Income_Bracket', 'Seasonal_Price_Index', 'Year_Month',\n",
       "       'Engine_Transmission', 'Company_Strength', 'PI_plus_model'],\n",
       "      dtype='object')"
      ]
     },
     "execution_count": 47,
     "metadata": {},
     "output_type": "execute_result"
    }
   ],
   "source": [
    "carSales.columns\n",
    "#PI_plus_model           0.493254\n",
    "#model                   0.493227\n",
    "#Price_to_Income         0.262996\n",
    "#Company_Strength        0.243971\n",
    "#Engine_to_Model         0.120120\n",
    "#Company                 0.022634\n",
    "#Body Style              0.014797\n",
    "#Holiday                 0.012945\n",
    "#Seasonal_Price_Index    0.010600\n",
    "#Engine                  0.010436\n",
    "#Selected by corr-threshold: ['Price ($)', 'PI_plus_model', 'model', 'Price_to_Income', 'Company_Strength']\n",
    "# ['Price_to_Income', 'model', 'Engine_to_Model', 'Company_Strength', 'PI_plus_model']\n",
    "# ['Annual Income', 'Price_to_Income', 'model', 'Income_Bracket', 'PI_plus_model']"
   ]
  },
  {
   "cell_type": "code",
   "execution_count": 48,
   "id": "1ff49ef4",
   "metadata": {},
   "outputs": [],
   "source": [
    "carSalesModel = carSales.drop(columns=[ 'Transmission', 'Color',  'Dealer_Region','Season' ,'Year', 'Month','Gender','DayOfWeek','Day','WeekOfYear','Year_Month','Engine_Transmission' ])"
   ]
  },
  {
   "cell_type": "code",
   "execution_count": 50,
   "id": "9032f549",
   "metadata": {},
   "outputs": [],
   "source": [
    "joblib.dump(carSales, '../Data/dataPreprocessing.pkl')\n",
    "carSales.to_csv('../Data/dataPreprocessing.csv')\n",
    "joblib.dump(carSalesModel, '../Data/dataModeling.pkl')\n",
    "carSalesModel.to_csv('../Data/dataModeling.csv')"
   ]
  }
 ],
 "metadata": {
  "kernelspec": {
   "display_name": "Python 3",
   "language": "python",
   "name": "python3"
  },
  "language_info": {
   "codemirror_mode": {
    "name": "ipython",
    "version": 3
   },
   "file_extension": ".py",
   "mimetype": "text/x-python",
   "name": "python",
   "nbconvert_exporter": "python",
   "pygments_lexer": "ipython3",
   "version": "3.10.9"
  }
 },
 "nbformat": 4,
 "nbformat_minor": 5
}
